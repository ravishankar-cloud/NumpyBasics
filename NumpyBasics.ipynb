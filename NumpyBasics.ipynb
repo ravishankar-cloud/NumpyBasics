### np.matmul(A,B) , np.dot(A,B) and np.inner(A,b)

multiplies every row with column and adds up

np.linalg.matrix_power(a,3)

a to the power of 3

np.kron(A,B)

A is multiplied point by point with B and  output like 3x3 and 3x3 oututs 9x9


np.linalg.cholesky(A)

Cholesky Decomposition - transpose conjucation multiplied by itself

np.linalg.qr(A)
QR Decomposition

Q is orthogonal matrix and R is Rectangle

np.linalg.eig(A)
outputs Eigen value Decomposition(EVD)

np.linalg.eigvals(A)
outputs just value of eigens

np.diag(d)
outputs Diagonal matrix

np.linalg.inv(P)

inverse matrix of P

np.real(P)
retrieves only real part and ignores imaginary part

np.linalg.svd(A)

retrieves single value decomposition (A=USVt)

np.linalg.norm(A)

function that takes matrices as input and retrieves a single number

np.linalg.cond(A)

represents singularity

np.linalg.det(B)
represents determinant

np.linalg.matrix_rank(B)
determines the rank of matrix

np.trace(A)

sums up the diagonal elements
####

{
 "cells": [
  {
   "cell_type": "code",
   "execution_count": 1,
   "metadata": {},
   "outputs": [
    {
     "name": "stdout",
     "output_type": "stream",
     "text": [
      "[2, 12, 36]\n"
     ]
    }
   ],
   "source": [
    "## Regular way of adding arrays:\n",
    "\n",
    "list_two=list(range(1,4))\n",
    "list_three=list(range(1,4))\n",
    "list_sum=[]\n",
    "\n",
    "for index in range(3):\n",
    "    list_two[index]=list_two[index] **2\n",
    "    list_three[index]=list_three[index]**3\n",
    "    list_sum.append(list_two[index] + list_three[index])\n",
    "print (list_sum)"
   ]
  },
  {
   "cell_type": "code",
   "execution_count": 2,
   "metadata": {},
   "outputs": [
    {
     "name": "stdout",
     "output_type": "stream",
     "text": [
      "[ 2 12 36]\n"
     ]
    }
   ],
   "source": [
    "## Adding Arrays With Numpy\n",
    "\n",
    "import numpy as np\n",
    "array_two=np.arange(1,4) ** 2\n",
    "array_three=np.arange(1,4)** 3\n",
    "print (array_two+array_three)"
   ]
  },
  {
   "cell_type": "code",
   "execution_count": 3,
   "metadata": {},
   "outputs": [
    {
     "name": "stdout",
     "output_type": "stream",
     "text": [
      "[ 1 16 81]\n",
      "[ 2.71828183  7.3890561  20.08553692]\n",
      "[0.         0.69314718 1.09861229]\n",
      "[0.84147098 0.90929743 0.14112001]\n"
     ]
    }
   ],
   "source": [
    "sample_array=np.array([1,2,3])\n",
    "\n",
    "## using numpy for power expoenential, log and trigonometric\n",
    "\n",
    "print(np.power(sample_array,4))\n",
    "print(np.exp(sample_array))\n",
    "print(np.log(sample_array))\n",
    "print(np.sin(sample_array))"
   ]
  },
  {
   "cell_type": "code",
   "execution_count": 4,
   "metadata": {},
   "outputs": [
    {
     "name": "stdout",
     "output_type": "stream",
     "text": [
      "[[0 1 2]\n",
      " [0 1 2]\n",
      " [0 1 2]]\n",
      "(3, 3)\n"
     ]
    }
   ],
   "source": [
    "## Forming 3x3 array from 1x3 array\n",
    "\n",
    "x=np.arange(3)\n",
    "y=np.arange(3)\n",
    "z=np.arange(3)\n",
    "multi_array=np.array([x,y,z])\n",
    "print(multi_array)\n",
    "print(multi_array.shape)"
   ]
  },
  {
   "cell_type": "code",
   "execution_count": 14,
   "metadata": {},
   "outputs": [
    {
     "name": "stdout",
     "output_type": "stream",
     "text": [
      "[[0 1 2]\n",
      " [3 4 5]\n",
      " [6 7 8]]\n",
      "(3, 3)\n"
     ]
    },
    {
     "data": {
      "text/plain": [
       "5"
      ]
     },
     "execution_count": 14,
     "metadata": {},
     "output_type": "execute_result"
    }
   ],
   "source": [
    "## To display the value 5 which is in 2nd row and 3rd column\n",
    "x=np.arange(3)\n",
    "y=np.arange(3,6)\n",
    "z=np.arange(6,9)\n",
    "multi_array=np.array([x,y,z])\n",
    "print(multi_array)\n",
    "print(multi_array.shape)\n",
    "multi_array[1,2]\n"
   ]
  },
  {
   "cell_type": "code",
   "execution_count": 12,
   "metadata": {},
   "outputs": [
    {
     "name": "stdout",
     "output_type": "stream",
     "text": [
      "[ 1.          1.18367347  1.36734694  1.55102041  1.73469388  1.91836735\n",
      "  2.10204082  2.28571429  2.46938776  2.65306122  2.83673469  3.02040816\n",
      "  3.20408163  3.3877551   3.57142857  3.75510204  3.93877551  4.12244898\n",
      "  4.30612245  4.48979592  4.67346939  4.85714286  5.04081633  5.2244898\n",
      "  5.40816327  5.59183673  5.7755102   5.95918367  6.14285714  6.32653061\n",
      "  6.51020408  6.69387755  6.87755102  7.06122449  7.24489796  7.42857143\n",
      "  7.6122449   7.79591837  7.97959184  8.16326531  8.34693878  8.53061224\n",
      "  8.71428571  8.89795918  9.08163265  9.26530612  9.44897959  9.63265306\n",
      "  9.81632653 10.        ]\n",
      "[ 1  4  7 10 13 16 19 22 25 28]\n"
     ]
    }
   ],
   "source": [
    "## linspace takes the 3rd argument for how many elements we want from 1 to 10 with equally spaced including the end value\n",
    "w=np.linspace(1,10,50)\n",
    "print(w)\n",
    "\n",
    "## arange takes the 3rd argument for step size and doesnt include end value\n",
    "x=np.arange(1,30,3)\n",
    "print(x)"
   ]
  },
  {
   "cell_type": "code",
   "execution_count": 30,
   "metadata": {},
   "outputs": [
    {
     "name": "stdout",
     "output_type": "stream",
     "text": [
      "[[0 1 2]\n",
      " [3 4 5]\n",
      " [6 7 8]]\n",
      "\n",
      " \n",
      "\n",
      "[[[ 0  1  2]\n",
      "  [ 3  4  5]]\n",
      "\n",
      " [[ 6  7  8]\n",
      "  [ 9 10 11]]\n",
      "\n",
      " [[12 13 14]\n",
      "  [15 16 17]]]\n"
     ]
    }
   ],
   "source": [
    "## reshaping 1D array to 3D\n",
    "x=np.arange(9).reshape(3,3)\n",
    "y=np.arange(18).reshape(3,2,3)\n",
    "print(x)\n",
    "print(\"\\n \\n\")\n",
    "print(y)\n"
   ]
  },
  {
   "cell_type": "code",
   "execution_count": 37,
   "metadata": {},
   "outputs": [
    {
     "data": {
      "text/plain": [
       "10"
      ]
     },
     "execution_count": 37,
     "metadata": {},
     "output_type": "execute_result"
    }
   ],
   "source": [
    "## Slicing Multi Dimensional arrays to drill down one number say 10\n",
    "y=np.arange(18).reshape(3,2,3)\n",
    "y[1,1,1]"
   ]
  },
  {
   "cell_type": "code",
   "execution_count": 38,
   "metadata": {},
   "outputs": [
    {
     "data": {
      "text/plain": [
       "array([[ 6,  7,  8],\n",
       "       [ 9, 10, 11]])"
      ]
     },
     "execution_count": 38,
     "metadata": {},
     "output_type": "execute_result"
    }
   ],
   "source": [
    "## Slicing Multi Dimensional arrays to drill down group of numbers from 6-11\n",
    "\n",
    "y[1,0:2,0:3]"
   ]
  },
  {
   "cell_type": "code",
   "execution_count": 41,
   "metadata": {},
   "outputs": [
    {
     "data": {
      "text/plain": [
       "array([[ 6,  8],\n",
       "       [ 9, 11]])"
      ]
     },
     "execution_count": 41,
     "metadata": {},
     "output_type": "execute_result"
    }
   ],
   "source": [
    "## Slicing Multi Dimensional arrays to drill down group of numbers from 6-11 and give one more argument 2 to filter every 2nd element\n",
    "\n",
    "y[1,:2,:3:2]"
   ]
  },
  {
   "cell_type": "code",
   "execution_count": 46,
   "metadata": {},
   "outputs": [
    {
     "name": "stdout",
     "output_type": "stream",
     "text": [
      "[ 6  7  8  9 10 11 12 13 14 15 16 17]\n",
      "17\n",
      "0\n"
     ]
    }
   ],
   "source": [
    "## display numbers greater than 5 and min and max value of given array\n",
    "\n",
    "print(y[y>5])\n",
    "print(y.max())\n",
    "print(y.min())"
   ]
  },
  {
   "cell_type": "code",
   "execution_count": 59,
   "metadata": {},
   "outputs": [
    {
     "name": "stdout",
     "output_type": "stream",
     "text": [
      "[    0     1 10000     3     4     5     6     7     8]\n",
      "\n",
      "\n",
      "[[    0     1 10000]\n",
      " [    3     4     5]\n",
      " [    6     7     8]]\n"
     ]
    }
   ],
   "source": [
    "## Ravel reshapes multi dimension arrays to One D array and replaces the original value\n",
    "\n",
    "x=np.arange(9).reshape(3,3)\n",
    "raveled_array=x.ravel()\n",
    "raveled_array[2]=10000\n",
    "print(raveled_array)\n",
    "print('\\n')\n",
    "print(x)"
   ]
  },
  {
   "cell_type": "code",
   "execution_count": 58,
   "metadata": {},
   "outputs": [
    {
     "name": "stdout",
     "output_type": "stream",
     "text": [
      "[    0     1 10000     3     4     5     6     7     8]\n",
      "\n",
      "\n",
      "[[0 1 2]\n",
      " [3 4 5]\n",
      " [6 7 8]]\n"
     ]
    }
   ],
   "source": [
    "## Flatten reshapes the multidimension arrays to one D array and does NOT replace the original value\n",
    "x=np.arange(9).reshape(3,3)\n",
    "flatten_array=x.flatten()\n",
    "flatten_array[2]=10000\n",
    "print(flatten_array)\n",
    "print('\\n')\n",
    "print(x)"
   ]
  },
  {
   "cell_type": "code",
   "execution_count": 62,
   "metadata": {},
   "outputs": [
    {
     "name": "stdout",
     "output_type": "stream",
     "text": [
      "[[0 3 6]\n",
      " [1 4 7]\n",
      " [2 5 8]]\n",
      "[[0 3 6]\n",
      " [1 4 7]\n",
      " [2 5 8]]\n"
     ]
    }
   ],
   "source": [
    "## Flip the column and rows using transpose ot T\n",
    "y=np.arange(9)\n",
    "y.shape=[3,3]\n",
    "print(y.transpose())\n",
    "print(y.T)"
   ]
  },
  {
   "cell_type": "code",
   "execution_count": 63,
   "metadata": {},
   "outputs": [
    {
     "data": {
      "text/plain": [
       "matrix([[ 29, -16],\n",
       "        [ 38,   6]])"
      ]
     },
     "execution_count": 63,
     "metadata": {},
     "output_type": "execute_result"
    }
   ],
   "source": [
    "## Matrix multiplication\n",
    "mat_a=np.matrix([0,3,5,5,5,2]).reshape(2,3)\n",
    "mat_b=np.matrix([3,4,3,-2,4,-2]).reshape(3,2)\n",
    "mat_a * mat_b"
   ]
  },
  {
   "cell_type": "code",
   "execution_count": 67,
   "metadata": {},
   "outputs": [
    {
     "data": {
      "text/plain": [
       "matrix([[ 29, -16],\n",
       "        [ 38,   6]])"
      ]
     },
     "execution_count": 67,
     "metadata": {},
     "output_type": "execute_result"
    }
   ],
   "source": [
    "## Matrix multiplication with matmul\n",
    "product=np.matmul(mat_a,mat_b)\n",
    "product"
   ]
  },
  {
   "cell_type": "code",
   "execution_count": 68,
   "metadata": {},
   "outputs": [
    {
     "data": {
      "text/plain": [
       "matrix([[ 29, -16],\n",
       "        [ 38,   6]])"
      ]
     },
     "execution_count": 68,
     "metadata": {},
     "output_type": "execute_result"
    }
   ],
   "source": [
    "## Another way for matrix multiplication\n",
    "mat_a @ mat_b"
   ]
  },
  {
   "cell_type": "code",
   "execution_count": 73,
   "metadata": {},
   "outputs": [
    {
     "name": "stdout",
     "output_type": "stream",
     "text": [
      "[[0 1 4 5]\n",
      " [2 3 6 7]]\n"
     ]
    }
   ],
   "source": [
    "## Stack arrays horizontally using Hstack(Horizontal axis should be same(x axis))\n",
    "x=np.arange(4).reshape(2,2)\n",
    "y=np.arange(4,8).reshape(2,2)\n",
    "z=np.hstack((x,y))\n",
    "print(z)"
   ]
  },
  {
   "cell_type": "code",
   "execution_count": 77,
   "metadata": {},
   "outputs": [
    {
     "name": "stdout",
     "output_type": "stream",
     "text": [
      "[[0 1]\n",
      " [2 3]\n",
      " [0 1]\n",
      " [2 3]\n",
      " [4 5]\n",
      " [6 7]]\n"
     ]
    }
   ],
   "source": [
    "## Stack arrays vertically using vstack(vertical axis should be same(y axis))\n",
    "\n",
    "x=np.arange(4).reshape(2,2)\n",
    "y=np.arange(8).reshape(4,2)\n",
    "z=np.vstack((x,y))\n",
    "print(z)"
   ]
  },
  {
   "cell_type": "code",
   "execution_count": null,
   "metadata": {},
   "outputs": [],
   "source": []
  }
 ],
 "metadata": {
  "kernelspec": {
   "display_name": "base",
   "language": "python",
   "name": "python3"
  },
  "language_info": {
   "codemirror_mode": {
    "name": "ipython",
    "version": 3
   },
   "file_extension": ".py",
   "mimetype": "text/x-python",
   "name": "python",
   "nbconvert_exporter": "python",
   "pygments_lexer": "ipython3",
   "version": "3.9.13"
  },
  "orig_nbformat": 4,
  "vscode": {
   "interpreter": {
    "hash": "cb4e912a5a27dd5f254d9a6f5bf4f653722471757284cb84940a27d705578784"
   }
  }
 },
 "nbformat": 4,
 "nbformat_minor": 2
}
